{
 "cells": [
  {
   "cell_type": "code",
   "execution_count": 24,
   "metadata": {
    "collapsed": false
   },
   "outputs": [
    {
     "name": "stdout",
     "output_type": "stream",
     "text": [
      "<type 'list'>\n",
      "(.(.)(.(.)(.(.)(.(.)(.)))))\n",
      "(.(.)(.(.)(.(.(.)(.))(.))))\n",
      "(.(.)(.(.(.)(.))(.(.)(.))))\n",
      "(.(.)(.(.(.)(.(.)(.)))(.)))\n",
      "(.(.)(.(.(.(.)(.))(.))(.)))\n",
      "(.(.(.)(.))(.(.)(.(.)(.))))\n",
      "(.(.(.)(.))(.(.(.)(.))(.)))\n",
      "(.(.(.)(.(.)(.)))(.(.)(.)))\n",
      "(.(.(.(.)(.))(.))(.(.)(.)))\n",
      "(.(.(.)(.(.)(.(.)(.))))(.))\n",
      "(.(.(.)(.(.(.)(.))(.)))(.))\n",
      "(.(.(.(.)(.))(.(.)(.)))(.))\n",
      "(.(.(.(.)(.(.)(.)))(.))(.))\n",
      "(.(.(.(.(.)(.))(.))(.))(.))\n"
     ]
    }
   ],
   "source": [
    "def genBinaryTrees(n):\n",
    "    leafnode = '(.)'\n",
    "    dp = []\n",
    "    newlist = []\n",
    "    newlist.append(leafnode)\n",
    "    dp.append(newlist)\n",
    "    for i in range(1,n):\n",
    "        newlist = []\n",
    "        for j in range(i):\n",
    "            for leftchild in dp[j]:\n",
    "                for rightchild in dp[i-j-1]:\n",
    "                    newlist.append('(' + '.' + leftchild + rightchild +')')\n",
    "        dp.append(newlist)\n",
    "    return dp[-1]\n",
    "\n",
    "alltrees = genBinaryTrees(5)\n",
    "print(type(alltrees))\n",
    "for tree in alltrees:\n",
    "    print tree\n"
   ]
  },
  {
   "cell_type": "code",
   "execution_count": 25,
   "metadata": {
    "collapsed": false
   },
   "outputs": [
    {
     "name": "stdout",
     "output_type": "stream",
     "text": [
      "9\n",
      "(.(.)(.(.(.)(.(.)(.)))(.)))\n",
      "(.(.)(.(.(.(.)(.))(.))(.)))\n",
      "(.(.(.)(.))(.(.(.)(.))(.)))\n",
      "(.(.(.)(.(.)(.)))(.(.)(.)))\n",
      "(.(.(.(.)(.))(.))(.(.)(.)))\n",
      "(.(.(.)(.(.(.)(.))(.)))(.))\n",
      "(.(.(.(.)(.))(.(.)(.)))(.))\n",
      "(.(.(.(.)(.(.)(.)))(.))(.))\n",
      "(.(.(.(.(.)(.))(.))(.))(.))\n"
     ]
    }
   ],
   "source": [
    "def validTree(n):\n",
    "    alltrees = genBinaryTrees(n)\n",
    "    res = []\n",
    "    for tree in alltrees:\n",
    "        if '))))' not in tree:\n",
    "            res.append(tree)\n",
    "    return res\n",
    "\n",
    "trees = validTree(5)\n",
    "print(len(trees))\n",
    "for tree in trees:\n",
    "    if '))))' not in tree:\n",
    "        print tree\n"
   ]
  },
  {
   "cell_type": "code",
   "execution_count": 26,
   "metadata": {
    "collapsed": false
   },
   "outputs": [
    {
     "name": "stdout",
     "output_type": "stream",
     "text": [
      "(.(.)(.(.(.)(.(.)(.)]}(.)]}\n",
      "(.(.)(.(.(.(.)(.))(.))(.)]}\n",
      "(.(.(.)(.))(.(.(.)(.))(.)]}\n",
      "(.(.(.)(.(.)(.)]}(.(.)(.)]}\n",
      "(.(.(.(.)(.))(.))(.(.)(.)]}\n",
      "(.(.(.)(.(.(.)(.))(.)]}(.))\n",
      "(.(.(.(.)(.))(.(.)(.)]}(.))\n",
      "(.(.(.(.)(.(.)(.)]}(.))(.))\n",
      "(.(.(.(.(.)(.))(.))(.))(.))\n"
     ]
    }
   ],
   "source": [
    "def forcedColoring(n):\n",
    "    validtrees = validTree(n)\n",
    "    res = []\n",
    "    for tree in validtrees:\n",
    "        if ')))' in tree:\n",
    "            str1 = tree.replace(')))',')]}')\n",
    "            res.append(str1)\n",
    "        else:\n",
    "            res.append(tree)\n",
    "    return res\n",
    "\n",
    "coloredtrees = forcedColoring(5)\n",
    "for tree in coloredtrees:\n",
    "    print tree\n"
   ]
  },
  {
   "cell_type": "code",
   "execution_count": 47,
   "metadata": {
    "collapsed": false
   },
   "outputs": [
    {
     "name": "stdout",
     "output_type": "stream",
     "text": [
      "1\n",
      "105\n",
      "3185\n",
      "41405\n",
      "273273\n",
      "1002001\n",
      "2147145\n",
      "2760615\n",
      "2147145\n",
      "1002001\n",
      "273273\n",
      "41405\n",
      "3185\n",
      "105\n",
      "1\n",
      "CPU times: user 2min 58s, sys: 24.2 s, total: 3min 23s\n",
      "Wall time: 3min 36s\n"
     ]
    }
   ],
   "source": [
    "%%time\n",
    "from scipy.special import comb\n",
    "def Mobius(n, i):\n",
    "    res = 0\n",
    "    reddone = forcedColoring(n)\n",
    "    for tree in reddone:\n",
    "        count = 0\n",
    "        for char in tree:\n",
    "            if char=='(' or char==')':\n",
    "                count+=1\n",
    "        colored = tree.count(']}')\n",
    "        if colored<=i:\n",
    "            count = count-2*colored\n",
    "            rem = count/2-n #rem is the number of available nodes\n",
    "            num = comb(rem, i-colored, exact=true)\n",
    "            res += num\n",
    "    return res\n",
    "\n",
    "\n",
    "\n",
    "n=15\n",
    "for i in range(0,n):\n",
    "    print(Mobius(n,i))\n"
   ]
  },
  {
   "cell_type": "code",
   "execution_count": 62,
   "metadata": {
    "collapsed": false
   },
   "outputs": [
    {
     "name": "stdout",
     "output_type": "stream",
     "text": [
      "([1], [1], True)\n",
      "([1, 1], [1, 1], True)\n",
      "([1, 3, 1], [1, 3, 1], True)\n",
      "([1, 6, 6, 1], [1, 6, 6, 1], True)\n",
      "([1, 10, 20, 10, 1], [1, 10, 20, 10, 1], True)\n",
      "([1, 15, 50, 50, 15, 1], [1, 15, 50, 50, 15, 1], True)\n",
      "([1, 21, 105, 175, 105, 21, 1], [1, 21, 105, 175, 105, 21, 1], True)\n",
      "([1, 28, 196, 490, 490, 196, 28, 1], [1, 28, 196, 490, 490, 196, 28, 1], True)\n",
      "([1, 36, 336, 1176, 1764, 1176, 336, 36, 1], [1, 36, 336, 1176, 1764, 1176, 336, 36, 1], True)\n",
      "([1, 45, 540, 2520, 5292, 5292, 2520, 540, 45, 1], [1, 45, 540, 2520, 5292, 5292, 2520, 540, 45, 1], True)\n",
      "([1, 55, 825, 4950, 13860, 19404, 13860, 4950, 825, 55, 1], [1, 55, 825, 4950, 13860, 19404, 13860, 4950, 825, 55, 1], True)\n",
      "([1, 66, 1210, 9075, 32670, 60984, 60984, 32670, 9075, 1210, 66, 1], [1, 66, 1210, 9075, 32670, 60984, 60984, 32670, 9075, 1210, 66, 1], True)\n",
      "([1, 78, 1716, 15730, 70785, 169884, 226512, 169884, 70785, 15730, 1716, 78, 1], [1, 78, 1716, 15730, 70785, 169884, 226512, 169884, 70785, 15730, 1716, 78, 1], True)\n",
      "([1, 91, 2366, 26026, 143143, 429429, 736164, 736164, 429429, 143143, 26026, 2366, 91, 1], [1, 91, 2366, 26026, 143143, 429429, 736164, 736164, 429429, 143143, 26026, 2366, 91, 1], True)\n",
      "([1, 105, 3185, 41405, 273273, 1002001, 2147145, 2760615, 2147145, 1002001, 273273, 41405, 3185, 105, 1], [1, 105, 3185, 41405, 273273, 1002001, 2147145, 2760615, 2147145, 1002001, 273273, 41405, 3185, 105, 1], True)\n",
      "CPU times: user 4min 22s, sys: 32.5 s, total: 4min 55s\n",
      "Wall time: 5min 18s\n"
     ]
    }
   ],
   "source": [
    "%%time\n",
    "\n",
    "\n",
    "def C(n,r):\n",
    "    if r>n:\n",
    "        return 0\n",
    "    else:\n",
    "        return (factorial(n))/(factorial(r)*factorial(n-r))\n",
    "    \n",
    "    \n",
    "    \n",
    "def h(n):\n",
    "    from math import factorial\n",
    "    hpoly=[0]*(n+1)\n",
    "    for i in range(1,n+1):\n",
    "        hpoly[i]=C(n,i)*C(n,i-1)/(n)\n",
    "        #try // instead?\n",
    "    return hpoly[1:]\n",
    "\n",
    "\n",
    "\n",
    "\n",
    "def ht(n):\n",
    "    from math import factorial\n",
    "    hpoly=[0]*(n)\n",
    "    for i in range(n):\n",
    "        hpoly[i]=C(n,i+1)*C(n,i)/(n)\n",
    "        #try // instead?\n",
    "    return hpoly\n",
    "\n",
    "\n",
    "###THIS IS IT! (for the path graph)\n",
    "\n",
    "for n in range(1,16):\n",
    "    mobiuscoef=[]\n",
    "    for i in range(0,n):\n",
    "        mobiuscoef.append(Mobius(n,i))\n",
    "\n",
    "    print(h(n),mobiuscoef, h(n)==mobiuscoef)\n",
    "\n"
   ]
  },
  {
   "cell_type": "code",
   "execution_count": 63,
   "metadata": {
    "collapsed": false
   },
   "outputs": [
    {
     "name": "stdout",
     "output_type": "stream",
     "text": [
      "([1, 120, 4200, 63700, 496860, 2186184, 5725720, 9202050, 9202050, 5725720, 2186184, 496860, 63700, 4200, 120, 1], [1, 120, 4200, 63700, 496860, 2186184, 5725720, 9202050, 9202050, 5725720, 2186184, 496860, 63700, 4200, 120, 1], True)\n",
      "([1, 136, 5440, 95200, 866320, 4504864, 14158144, 27810640, 34763300, 27810640, 14158144, 4504864, 866320, 95200, 5440, 136, 1], [1, 136, 5440, 95200, 866320, 4504864, 14158144, 27810640, 34763300, 27810640, 14158144, 4504864, 866320, 95200, 5440, 136, 1], True)\n"
     ]
    },
    {
     "ename": "MemoryError",
     "evalue": "",
     "output_type": "error",
     "traceback": [
      "\u001b[0;31m---------------------------------------------------------------------------\u001b[0m",
      "\u001b[0;31mMemoryError\u001b[0m                               Traceback (most recent call last)",
      "\u001b[0;32m<ipython-input-63-f76fe24a907d>\u001b[0m in \u001b[0;36m<module>\u001b[0;34m()\u001b[0m\n\u001b[0;32m----> 1\u001b[0;31m \u001b[0mget_ipython\u001b[0m\u001b[0;34m(\u001b[0m\u001b[0;34m)\u001b[0m\u001b[0;34m.\u001b[0m\u001b[0mrun_cell_magic\u001b[0m\u001b[0;34m(\u001b[0m\u001b[0;34mu'time'\u001b[0m\u001b[0;34m,\u001b[0m \u001b[0;34mu''\u001b[0m\u001b[0;34m,\u001b[0m \u001b[0;34mu'\\nfor n in range(16,21):\\n    mobiuscoef=[]\\n    for i in range(0,n):\\n        mobiuscoef.append(Mobius(n,i))\\n\\n    print(h(n),mobiuscoef, h(n)==mobiuscoef)\\n'\u001b[0m\u001b[0;34m)\u001b[0m\u001b[0;34m\u001b[0m\u001b[0m\n\u001b[0m",
      "\u001b[0;32m/opt/sagemath-8.1/local/lib/python2.7/site-packages/IPython/core/interactiveshell.py\u001b[0m in \u001b[0;36mrun_cell_magic\u001b[0;34m(self, magic_name, line, cell)\u001b[0m\n\u001b[1;32m   2113\u001b[0m             \u001b[0mmagic_arg_s\u001b[0m \u001b[0;34m=\u001b[0m \u001b[0mself\u001b[0m\u001b[0;34m.\u001b[0m\u001b[0mvar_expand\u001b[0m\u001b[0;34m(\u001b[0m\u001b[0mline\u001b[0m\u001b[0;34m,\u001b[0m \u001b[0mstack_depth\u001b[0m\u001b[0;34m)\u001b[0m\u001b[0;34m\u001b[0m\u001b[0m\n\u001b[1;32m   2114\u001b[0m             \u001b[0;32mwith\u001b[0m \u001b[0mself\u001b[0m\u001b[0;34m.\u001b[0m\u001b[0mbuiltin_trap\u001b[0m\u001b[0;34m:\u001b[0m\u001b[0;34m\u001b[0m\u001b[0m\n\u001b[0;32m-> 2115\u001b[0;31m                 \u001b[0mresult\u001b[0m \u001b[0;34m=\u001b[0m \u001b[0mfn\u001b[0m\u001b[0;34m(\u001b[0m\u001b[0mmagic_arg_s\u001b[0m\u001b[0;34m,\u001b[0m \u001b[0mcell\u001b[0m\u001b[0;34m)\u001b[0m\u001b[0;34m\u001b[0m\u001b[0m\n\u001b[0m\u001b[1;32m   2116\u001b[0m             \u001b[0;32mreturn\u001b[0m \u001b[0mresult\u001b[0m\u001b[0;34m\u001b[0m\u001b[0m\n\u001b[1;32m   2117\u001b[0m \u001b[0;34m\u001b[0m\u001b[0m\n",
      "\u001b[0;32m<decorator-gen-59>\u001b[0m in \u001b[0;36mtime\u001b[0;34m(self, line, cell, local_ns)\u001b[0m\n",
      "\u001b[0;32m/opt/sagemath-8.1/local/lib/python2.7/site-packages/IPython/core/magic.py\u001b[0m in \u001b[0;36m<lambda>\u001b[0;34m(f, *a, **k)\u001b[0m\n\u001b[1;32m    186\u001b[0m     \u001b[0;31m# but it's overkill for just that one bit of state.\u001b[0m\u001b[0;34m\u001b[0m\u001b[0;34m\u001b[0m\u001b[0m\n\u001b[1;32m    187\u001b[0m     \u001b[0;32mdef\u001b[0m \u001b[0mmagic_deco\u001b[0m\u001b[0;34m(\u001b[0m\u001b[0marg\u001b[0m\u001b[0;34m)\u001b[0m\u001b[0;34m:\u001b[0m\u001b[0;34m\u001b[0m\u001b[0m\n\u001b[0;32m--> 188\u001b[0;31m         \u001b[0mcall\u001b[0m \u001b[0;34m=\u001b[0m \u001b[0;32mlambda\u001b[0m \u001b[0mf\u001b[0m\u001b[0;34m,\u001b[0m \u001b[0;34m*\u001b[0m\u001b[0ma\u001b[0m\u001b[0;34m,\u001b[0m \u001b[0;34m**\u001b[0m\u001b[0mk\u001b[0m\u001b[0;34m:\u001b[0m \u001b[0mf\u001b[0m\u001b[0;34m(\u001b[0m\u001b[0;34m*\u001b[0m\u001b[0ma\u001b[0m\u001b[0;34m,\u001b[0m \u001b[0;34m**\u001b[0m\u001b[0mk\u001b[0m\u001b[0;34m)\u001b[0m\u001b[0;34m\u001b[0m\u001b[0m\n\u001b[0m\u001b[1;32m    189\u001b[0m \u001b[0;34m\u001b[0m\u001b[0m\n\u001b[1;32m    190\u001b[0m         \u001b[0;32mif\u001b[0m \u001b[0mcallable\u001b[0m\u001b[0;34m(\u001b[0m\u001b[0marg\u001b[0m\u001b[0;34m)\u001b[0m\u001b[0;34m:\u001b[0m\u001b[0;34m\u001b[0m\u001b[0m\n",
      "\u001b[0;32m/opt/sagemath-8.1/local/lib/python2.7/site-packages/IPython/core/magics/execution.py\u001b[0m in \u001b[0;36mtime\u001b[0;34m(self, line, cell, local_ns)\u001b[0m\n\u001b[1;32m   1178\u001b[0m         \u001b[0;32melse\u001b[0m\u001b[0;34m:\u001b[0m\u001b[0;34m\u001b[0m\u001b[0m\n\u001b[1;32m   1179\u001b[0m             \u001b[0mst\u001b[0m \u001b[0;34m=\u001b[0m \u001b[0mclock2\u001b[0m\u001b[0;34m(\u001b[0m\u001b[0;34m)\u001b[0m\u001b[0;34m\u001b[0m\u001b[0m\n\u001b[0;32m-> 1180\u001b[0;31m             \u001b[0;32mexec\u001b[0m\u001b[0;34m(\u001b[0m\u001b[0mcode\u001b[0m\u001b[0;34m,\u001b[0m \u001b[0mglob\u001b[0m\u001b[0;34m,\u001b[0m \u001b[0mlocal_ns\u001b[0m\u001b[0;34m)\u001b[0m\u001b[0;34m\u001b[0m\u001b[0m\n\u001b[0m\u001b[1;32m   1181\u001b[0m             \u001b[0mend\u001b[0m \u001b[0;34m=\u001b[0m \u001b[0mclock2\u001b[0m\u001b[0;34m(\u001b[0m\u001b[0;34m)\u001b[0m\u001b[0;34m\u001b[0m\u001b[0m\n\u001b[1;32m   1182\u001b[0m             \u001b[0mout\u001b[0m \u001b[0;34m=\u001b[0m \u001b[0mNone\u001b[0m\u001b[0;34m\u001b[0m\u001b[0m\n",
      "\u001b[0;32m<timed exec>\u001b[0m in \u001b[0;36m<module>\u001b[0;34m()\u001b[0m\n",
      "\u001b[0;32m<timed exec>\u001b[0m in \u001b[0;36mMobius\u001b[0;34m(n, i)\u001b[0m\n",
      "\u001b[0;32m<ipython-input-26-5f37de93aa25>\u001b[0m in \u001b[0;36mforcedColoring\u001b[0;34m(n)\u001b[0m\n\u001b[1;32m      1\u001b[0m \u001b[0;32mdef\u001b[0m \u001b[0mforcedColoring\u001b[0m\u001b[0;34m(\u001b[0m\u001b[0mn\u001b[0m\u001b[0;34m)\u001b[0m\u001b[0;34m:\u001b[0m\u001b[0;34m\u001b[0m\u001b[0m\n\u001b[0;32m----> 2\u001b[0;31m     \u001b[0mvalidtrees\u001b[0m \u001b[0;34m=\u001b[0m \u001b[0mvalidTree\u001b[0m\u001b[0;34m(\u001b[0m\u001b[0mn\u001b[0m\u001b[0;34m)\u001b[0m\u001b[0;34m\u001b[0m\u001b[0m\n\u001b[0m\u001b[1;32m      3\u001b[0m     \u001b[0mres\u001b[0m \u001b[0;34m=\u001b[0m \u001b[0;34m[\u001b[0m\u001b[0;34m]\u001b[0m\u001b[0;34m\u001b[0m\u001b[0m\n\u001b[1;32m      4\u001b[0m     \u001b[0;32mfor\u001b[0m \u001b[0mtree\u001b[0m \u001b[0;32min\u001b[0m \u001b[0mvalidtrees\u001b[0m\u001b[0;34m:\u001b[0m\u001b[0;34m\u001b[0m\u001b[0m\n\u001b[1;32m      5\u001b[0m         \u001b[0;32mif\u001b[0m \u001b[0;34m')))'\u001b[0m \u001b[0;32min\u001b[0m \u001b[0mtree\u001b[0m\u001b[0;34m:\u001b[0m\u001b[0;34m\u001b[0m\u001b[0m\n",
      "\u001b[0;32m<ipython-input-25-70b29e273358>\u001b[0m in \u001b[0;36mvalidTree\u001b[0;34m(n)\u001b[0m\n\u001b[1;32m      1\u001b[0m \u001b[0;32mdef\u001b[0m \u001b[0mvalidTree\u001b[0m\u001b[0;34m(\u001b[0m\u001b[0mn\u001b[0m\u001b[0;34m)\u001b[0m\u001b[0;34m:\u001b[0m\u001b[0;34m\u001b[0m\u001b[0m\n\u001b[0;32m----> 2\u001b[0;31m     \u001b[0malltrees\u001b[0m \u001b[0;34m=\u001b[0m \u001b[0mgenBinaryTrees\u001b[0m\u001b[0;34m(\u001b[0m\u001b[0mn\u001b[0m\u001b[0;34m)\u001b[0m\u001b[0;34m\u001b[0m\u001b[0m\n\u001b[0m\u001b[1;32m      3\u001b[0m     \u001b[0mres\u001b[0m \u001b[0;34m=\u001b[0m \u001b[0;34m[\u001b[0m\u001b[0;34m]\u001b[0m\u001b[0;34m\u001b[0m\u001b[0m\n\u001b[1;32m      4\u001b[0m     \u001b[0;32mfor\u001b[0m \u001b[0mtree\u001b[0m \u001b[0;32min\u001b[0m \u001b[0malltrees\u001b[0m\u001b[0;34m:\u001b[0m\u001b[0;34m\u001b[0m\u001b[0m\n\u001b[1;32m      5\u001b[0m         \u001b[0;32mif\u001b[0m \u001b[0;34m'))))'\u001b[0m \u001b[0;32mnot\u001b[0m \u001b[0;32min\u001b[0m \u001b[0mtree\u001b[0m\u001b[0;34m:\u001b[0m\u001b[0;34m\u001b[0m\u001b[0m\n",
      "\u001b[0;32m<ipython-input-24-a42f83d374e8>\u001b[0m in \u001b[0;36mgenBinaryTrees\u001b[0;34m(n)\u001b[0m\n\u001b[1;32m     10\u001b[0m             \u001b[0;32mfor\u001b[0m \u001b[0mleftchild\u001b[0m \u001b[0;32min\u001b[0m \u001b[0mdp\u001b[0m\u001b[0;34m[\u001b[0m\u001b[0mj\u001b[0m\u001b[0;34m]\u001b[0m\u001b[0;34m:\u001b[0m\u001b[0;34m\u001b[0m\u001b[0m\n\u001b[1;32m     11\u001b[0m                 \u001b[0;32mfor\u001b[0m \u001b[0mrightchild\u001b[0m \u001b[0;32min\u001b[0m \u001b[0mdp\u001b[0m\u001b[0;34m[\u001b[0m\u001b[0mi\u001b[0m\u001b[0;34m-\u001b[0m\u001b[0mj\u001b[0m\u001b[0;34m-\u001b[0m\u001b[0mInteger\u001b[0m\u001b[0;34m(\u001b[0m\u001b[0;36m1\u001b[0m\u001b[0;34m)\u001b[0m\u001b[0;34m]\u001b[0m\u001b[0;34m:\u001b[0m\u001b[0;34m\u001b[0m\u001b[0m\n\u001b[0;32m---> 12\u001b[0;31m                     \u001b[0mnewlist\u001b[0m\u001b[0;34m.\u001b[0m\u001b[0mappend\u001b[0m\u001b[0;34m(\u001b[0m\u001b[0;34m'('\u001b[0m \u001b[0;34m+\u001b[0m \u001b[0;34m'.'\u001b[0m \u001b[0;34m+\u001b[0m \u001b[0mleftchild\u001b[0m \u001b[0;34m+\u001b[0m \u001b[0mrightchild\u001b[0m \u001b[0;34m+\u001b[0m\u001b[0;34m')'\u001b[0m\u001b[0;34m)\u001b[0m\u001b[0;34m\u001b[0m\u001b[0m\n\u001b[0m\u001b[1;32m     13\u001b[0m         \u001b[0mdp\u001b[0m\u001b[0;34m.\u001b[0m\u001b[0mappend\u001b[0m\u001b[0;34m(\u001b[0m\u001b[0mnewlist\u001b[0m\u001b[0;34m)\u001b[0m\u001b[0;34m\u001b[0m\u001b[0m\n\u001b[1;32m     14\u001b[0m     \u001b[0;32mreturn\u001b[0m \u001b[0mdp\u001b[0m\u001b[0;34m[\u001b[0m\u001b[0;34m-\u001b[0m\u001b[0mInteger\u001b[0m\u001b[0;34m(\u001b[0m\u001b[0;36m1\u001b[0m\u001b[0;34m)\u001b[0m\u001b[0;34m]\u001b[0m\u001b[0;34m\u001b[0m\u001b[0m\n",
      "\u001b[0;31mMemoryError\u001b[0m: "
     ]
    }
   ],
   "source": [
    "%%time\n",
    "\n",
    "for n in range(16,21):\n",
    "    mobiuscoef=[]\n",
    "    for i in range(0,n):\n",
    "        mobiuscoef.append(Mobius(n,i))\n",
    "\n",
    "    print(h(n),mobiuscoef, h(n)==mobiuscoef)\n",
    "\n"
   ]
  }
 ],
 "metadata": {
  "kernelspec": {
   "display_name": "SageMath 8.1",
   "language": "",
   "name": "sagemath"
  },
  "language_info": {
   "codemirror_mode": {
    "name": "ipython",
    "version": 2
   },
   "file_extension": ".py",
   "mimetype": "text/x-python",
   "name": "python",
   "nbconvert_exporter": "python",
   "pygments_lexer": "ipython2",
   "version": "2.7.14"
  }
 },
 "nbformat": 4,
 "nbformat_minor": 2
}
