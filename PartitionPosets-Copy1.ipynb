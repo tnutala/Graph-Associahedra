{
 "cells": [
  {
   "cell_type": "code",
   "execution_count": 1,
   "metadata": {
    "collapsed": false,
    "deletable": true,
    "editable": true
   },
   "outputs": [
    {
     "data": {
      "text/latex": [
       "\n",
       "$|\\Pi_{S_n}| = \\sum\\limits_{k=0}^{n-1} {n-1 \\choose k}$ ______and_______\n",
       "$|\\Pi^w_{S_n}| = \\sum\\limits_{k=0}^{n-1} (n-k){n-1 \\choose k}$"
      ],
      "text/plain": [
       "<IPython.core.display.Latex object>"
      ]
     },
     "metadata": {},
     "output_type": "display_data"
    }
   ],
   "source": [
    "%%latex\n",
    "\n",
    "$|\\Pi_{S_n}| = \\sum\\limits_{k=0}^{n-1} {n-1 \\choose k}$ ______and_______\n",
    "$|\\Pi^w_{S_n}| = \\sum\\limits_{k=0}^{n-1} (n-k){n-1 \\choose k}$\n"
   ]
  },
  {
   "cell_type": "code",
   "execution_count": 2,
   "metadata": {
    "collapsed": false,
    "deletable": true,
    "editable": true
   },
   "outputs": [
    {
     "data": {
      "text/latex": [
       "\n",
       "$|\\Pi_{P_n}| = \\sum\\limits_{k=1}^{n} {n-1 \\choose k-1}$ \n"
      ],
      "text/plain": [
       "<IPython.core.display.Latex object>"
      ]
     },
     "metadata": {},
     "output_type": "display_data"
    }
   ],
   "source": [
    "%%latex\n",
    "\n",
    "$|\\Pi_{P_n}| = \\sum\\limits_{k=1}^{n} {n-1 \\choose k-1}$ \n",
    "\n"
   ]
  },
  {
   "cell_type": "code",
   "execution_count": 3,
   "metadata": {
    "collapsed": false,
    "deletable": true,
    "editable": true,
    "scrolled": false
   },
   "outputs": [
    {
     "data": {
      "image/png": "[encoded data removed]",
      "text/plain": [
       "Graphics object consisting of 6 graphics primitives"
      ]
     },
     "metadata": {},
     "output_type": "display_data"
    },
    {
     "data": {
      "image/png": "[encoded data removed]",
      "text/plain": [
       "Graphics object consisting of 6 graphics primitives"
      ]
     },
     "metadata": {},
     "output_type": "display_data"
    },
    {
     "name": "stdout",
     "output_type": "stream",
     "text": [
      "from 5\n",
      "to 4 partitions\n",
      "time elapsed 8.97937607765\n"
     ]
    },
    {
     "data": {
      "text/plain": [
       "'\\nprint(list(SetPartitions(N)))\\nprint(\"STAR GRAPH :\", sieve(staradj,SetPartitions(N)))\\nprint(\"PATH GRAPH :\", sieve(pathadj,SetPartitions(N)))\\n'"
      ]
     },
     "execution_count": 3,
     "metadata": {},
     "output_type": "execute_result"
    }
   ],
   "source": [
    "import timeit\n",
    "start_time = timeit.default_timer()\n",
    "\n",
    "\n",
    "#########################\n",
    "N=3  #number of vertice/elements in graph/partition\n",
    "\n",
    "#########################\n",
    "\n",
    "\n",
    "P= graphs.PathGraph(N) \n",
    "S=graphs.StarGraph(N-1) #the Sage's Star Graph actually graphs N+1 vertices instead of N so I put N-1 here to account for that\n",
    "P.show()\n",
    "S.show()\n",
    "pathadj= P.adjacency_matrix()    #default ordering of rows and columns is from 0 to N\n",
    "staradj= S.adjacency_matrix()\n",
    "\n",
    "\n",
    "if N<4:\n",
    "    staradj=pathadj\n",
    "\n",
    "\n",
    "#use whatever function you like, just be consistent\n",
    "\n",
    "def disconnected(AdjMat,b):   #b is the size of of the testblock\n",
    "    ans= sum(sum(AdjMat))/2\n",
    "    return ans!=b-1\n",
    "\n",
    "def connected(AdjMat,b): #b is the size of of the testblock\n",
    "    ans= sum(sum(AdjMat))/2\n",
    "    return ans==b-1\n",
    "    \n",
    "testblock = list({0})\n",
    "subadj = pathadj[testblock,testblock]\n",
    "#print(disconnected(subadj,len(testblock)))\n",
    "# print \"Is the graph disconnected? :\",disconnected(staradj,N) # should return false\n",
    "# print \"Is the graph connected? :\", connected(staradj,N) #should return true\n",
    "    \n",
    "    \n",
    "    \n",
    "    \n",
    "def sieve(AdjMat,setpartitions):\n",
    "    lsetpartitions=list(setpartitions)\n",
    "    lset=lsetpartitions[:]\n",
    "    for i,partition in enumerate(lsetpartitions):\n",
    "        for block in partition:\n",
    "            testblock=list(block)\n",
    "            testblock[:]=[x-1 for x in testblock]\n",
    "            testadj=AdjMat[testblock,testblock]\n",
    "            if disconnected(testadj,len(testblock)):\n",
    "                lset.remove(lsetpartitions[i])\n",
    "                break\n",
    "            else:\n",
    "                continue\n",
    "    return lset\n",
    "\n",
    "                \n",
    "                \n",
    "pathlattice= sieve(pathadj,SetPartitions(N))\n",
    "                \n",
    "                \n",
    "\n",
    "#print(sieve(staradj,SetPartitions(N)))  #This accounts in large part for the runtime\n",
    "print('from %d' %len(SetPartitions(N)))\n",
    "print(\"to %d partitions\" %len(pathlattice))\n",
    "\n",
    "elapsed = timeit.default_timer() - start_time\n",
    "print(\"time elapsed %s\" %elapsed)\n",
    "# takes about 7.39 seconds for n=8, where B8 = 4140 -> 128\n",
    "# takes about 48 seconds for n=9, where B9 = 21147 -> 256\n",
    "# takes 368.3870821 seconds for n=10, where B10= 115975 -> 512\n",
    "# takes 4742.04741216 seconds for n=11, where B11= 678570 -> 1024\n",
    "\n",
    "\"\"\"\n",
    "print(list(SetPartitions(N)))\n",
    "print(\"STAR GRAPH :\", sieve(staradj,SetPartitions(N)))\n",
    "print(\"PATH GRAPH :\", sieve(pathadj,SetPartitions(N)))\n",
    "\"\"\"\n",
    "\n",
    "    "
   ]
  },
  {
   "cell_type": "code",
   "execution_count": 4,
   "metadata": {
    "collapsed": false,
    "deletable": true,
    "editable": true
   },
   "outputs": [
    {
     "name": "stdout",
     "output_type": "stream",
     "text": [
      "LENGTH: 4\n",
      "[{{1, 2, 3}}, {{1}, {2, 3}}, {{1, 2}, {3}}, {{1}, {2}, {3}}]\n"
     ]
    },
    {
     "data": {
      "text/plain": [
       "<class 'sage.combinat.set_partition.SetPartitions_set_with_category.element_class'>"
      ]
     },
     "execution_count": 4,
     "metadata": {},
     "output_type": "execute_result"
    }
   ],
   "source": [
    "\n",
    "## FEED adjacency matrix data\n",
    "## remove partions that wont work for a certain graph G\n",
    "## TODO\n",
    "## THEN compute weighted partions\n",
    "## OPTIONAL make hasse diagram\n",
    "## compute mobius function on weighted bond partitions\n",
    "\n",
    "\n",
    "\n",
    "WtPartitions = sieve(pathadj,SetPartitions(N))\n",
    "\n",
    "\n",
    "print 'LENGTH:',len(WtPartitions)\n",
    "print WtPartitions\n",
    "#Poset(WtPartitions[x for x in WtPartitions[x][0][0]],lambda q,p: q in p.refinements())\n",
    "type(WtPartitions[0])\n"
   ]
  },
  {
   "cell_type": "code",
   "execution_count": null,
   "metadata": {
    "collapsed": false,
    "deletable": true,
    "editable": true
   },
   "outputs": [],
   "source": [
    "\n",
    "\n",
    "##Code from:\n",
    "## http://sheaves.github.io/Partitions-and-Posets/\n",
    "\n",
    "def Partition_Poset(X):\n",
    "    return Poset((SetPartitions(X),lambda q,p: q in p.refinements()))\n",
    "\n",
    "\n",
    "\n",
    "def p_label(p):\n",
    "    out = \"\"\n",
    "    for block in p:\n",
    "        for elm in block:\n",
    "            \n",
    "            out += str(elm)\n",
    "        out += \"|\"\n",
    "    return out[:-1]\n",
    "\n",
    "Po = Partition_Poset(N)\n",
    "#element_labels = {x:p_label(x) for x in Po}\n",
    "\n",
    "#P = Poset([[1,2,3],[4],[4],[4],[]])\n",
    "#print(P.moebius_function(P(0),P(4)))\n",
    "#Po.plot(element_labels = {x:p_label(x) for x in Po},vertex_size=500,vertex_shape=None)\n",
    "elapsed = timeit.default_timer() - start_time\n",
    "print(elapsed)\n",
    "\n",
    "\n",
    "StarPo=Poset((sieve(staradj,SetPartitions(N)),lambda q,p: q in p.refinements()))\n",
    "PathPo=Poset((sieve(pathadj,SetPartitions(N)),lambda q,p: q in p.refinements()))\n",
    "\n",
    "print(type(StarPo))\n",
    "Po.plot(element_labels={x:p_label(x) for x in Po},vertex_size=300)\n",
    "\n",
    "\n"
   ]
  },
  {
   "cell_type": "code",
   "execution_count": 18,
   "metadata": {
    "collapsed": false,
    "deletable": true,
    "editable": true
   },
   "outputs": [
    {
     "name": "stdout",
     "output_type": "stream",
     "text": [
      "mobius func on {{1}, {2}, {3}, {4}} , {{1, 2, 3, 4}} =-1\n",
      "[ 1 -1 -1  1 -1  1  1 -1]\n",
      "[ 0  1  0 -1  0 -1  0  1]\n",
      "[ 0  0  1 -1  0  0 -1  1]\n",
      "[ 0  0  0  1  0  0  0 -1]\n",
      "[ 0  0  0  0  1 -1 -1  1]\n",
      "[ 0  0  0  0  0  1  0 -1]\n",
      "[ 0  0  0  0  0  0  1 -1]\n",
      "[ 0  0  0  0  0  0  0  1]\n"
     ]
    },
    {
     "data": {
      "image/png": "[encoded data removed]",
      "text/plain": [
       "Graphics object consisting of 21 graphics primitives"
      ]
     },
     "execution_count": 18,
     "metadata": {},
     "output_type": "execute_result"
    }
   ],
   "source": [
    "#S.show()\n",
    "index1=StarPo[0]\n",
    "index2=StarPo[-1]\n",
    "mobfunc=StarPo.moebius_function(index1, index2)\n",
    "print(\"mobius func on {} , {} ={}\".format(index1,index2,mobfunc))\n",
    "print(StarPo.moebius_function_matrix())\n",
    "StarPo.plot(element_labels={x:p_label(x) for x in StarPo},vertex_size=250)\n"
   ]
  },
  {
   "cell_type": "code",
   "execution_count": 19,
   "metadata": {
    "collapsed": false,
    "deletable": true,
    "editable": true
   },
   "outputs": [
    {
     "name": "stdout",
     "output_type": "stream",
     "text": [
      "mobius func on {{1}, {2}, {3}, {4}} , {{1, 2, 3, 4}} =-1\n",
      "[ 1 -1 -1  1 -1  1  1 -1]\n",
      "[ 0  1  0 -1  0 -1  0  1]\n",
      "[ 0  0  1 -1  0  0 -1  1]\n",
      "[ 0  0  0  1  0  0  0 -1]\n",
      "[ 0  0  0  0  1 -1 -1  1]\n",
      "[ 0  0  0  0  0  1  0 -1]\n",
      "[ 0  0  0  0  0  0  1 -1]\n",
      "[ 0  0  0  0  0  0  0  1]\n"
     ]
    },
    {
     "data": {
      "image/png": "[encoded data removed]",
      "text/plain": [
       "Graphics object consisting of 21 graphics primitives"
      ]
     },
     "execution_count": 19,
     "metadata": {},
     "output_type": "execute_result"
    }
   ],
   "source": [
    "#P.show()\n",
    "index1=PathPo[0]\n",
    "index2=PathPo[-1]\n",
    "mobfunc=PathPo.moebius_function(index1, index2)\n",
    "print(\"mobius func on {} , {} ={}\".format(index1,index2,mobfunc))\n",
    "print(PathPo.moebius_function_matrix())\n",
    "\n",
    "PathPo.plot(element_labels={x:p_label(x) for x in PathPo},vertex_size=250)\n"
   ]
  },
  {
   "cell_type": "code",
   "execution_count": 23,
   "metadata": {
    "collapsed": false,
    "deletable": true,
    "editable": true
   },
   "outputs": [
    {
     "data": {
      "text/plain": [
       "[{{1, 2, 3, 4}},\n",
       " {{1}, {2, 3, 4}},\n",
       " {{1, 2, 3}, {4}},\n",
       " {{1, 2}, {3, 4}},\n",
       " {{1}, {2}, {3, 4}},\n",
       " {{1}, {2, 3}, {4}},\n",
       " {{1, 2}, {3}, {4}},\n",
       " {{1}, {2}, {3}, {4}}]"
      ]
     },
     "execution_count": 23,
     "metadata": {},
     "output_type": "execute_result"
    }
   ],
   "source": [
    "#experiment= Poset((sieve(pathadj,SetPartitions(N)),lambda q,p: q in p.refinements()))\n",
    "sieve(pathadj,SetPartitions(N))\n"
   ]
  },
  {
   "cell_type": "code",
   "execution_count": 1,
   "metadata": {
    "collapsed": false,
    "deletable": true,
    "editable": true,
    "scrolled": true
   },
   "outputs": [
    {
     "ename": "TypeError",
     "evalue": "list indices must be integers, not tuple",
     "output_type": "error",
     "traceback": [
      "\u001b[0;31m---------------------------------------------------------------------------\u001b[0m",
      "\u001b[0;31mTypeError\u001b[0m                                 Traceback (most recent call last)",
      "\u001b[0;32m<ipython-input-1-4b2498b456c9>\u001b[0m in \u001b[0;36m<module>\u001b[0;34m()\u001b[0m\n\u001b[1;32m     35\u001b[0m \u001b[0;34m\u001b[0m\u001b[0m\n\u001b[1;32m     36\u001b[0m \u001b[0;34m\u001b[0m\u001b[0m\n\u001b[0;32m---> 37\u001b[0;31m \u001b[0;32mprint\u001b[0m\u001b[0;34m(\u001b[0m\u001b[0mwtparting\u001b[0m\u001b[0;34m(\u001b[0m\u001b[0ma\u001b[0m\u001b[0;34m)\u001b[0m\u001b[0;34m)\u001b[0m\u001b[0;34m\u001b[0m\u001b[0m\n\u001b[0m\u001b[1;32m     38\u001b[0m \u001b[0;34m\u001b[0m\u001b[0m\n",
      "\u001b[0;32m<ipython-input-1-4b2498b456c9>\u001b[0m in \u001b[0;36mwtparting\u001b[0;34m(listofsets)\u001b[0m\n\u001b[1;32m     29\u001b[0m     \u001b[0;32mfor\u001b[0m \u001b[0mnum\u001b[0m \u001b[0;32min\u001b[0m \u001b[0mcounts\u001b[0m\u001b[0;34m:\u001b[0m\u001b[0;34m\u001b[0m\u001b[0m\n\u001b[1;32m     30\u001b[0m         \u001b[0;32mfor\u001b[0m \u001b[0mk\u001b[0m \u001b[0;32min\u001b[0m \u001b[0mrange\u001b[0m\u001b[0;34m(\u001b[0m\u001b[0mnum\u001b[0m\u001b[0;34m)\u001b[0m\u001b[0;34m:\u001b[0m\u001b[0;34m\u001b[0m\u001b[0m\n\u001b[0;32m---> 31\u001b[0;31m             \u001b[0mwtparts\u001b[0m\u001b[0;34m.\u001b[0m\u001b[0mappend\u001b[0m\u001b[0;34m(\u001b[0m\u001b[0;34m[\u001b[0m\u001b[0mtuple\u001b[0m\u001b[0;34m(\u001b[0m\u001b[0;34m(\u001b[0m\u001b[0mlistofsets\u001b[0m\u001b[0;34m[\u001b[0m\u001b[0mi\u001b[0m\u001b[0;34m,\u001b[0m\u001b[0;34m]\u001b[0m\u001b[0;34m,\u001b[0m\u001b[0mk\u001b[0m\u001b[0;34m)\u001b[0m\u001b[0;34m)\u001b[0m\u001b[0;34m]\u001b[0m\u001b[0;34m)\u001b[0m\u001b[0;34m\u001b[0m\u001b[0m\n\u001b[0m\u001b[1;32m     32\u001b[0m \u001b[0;34m\u001b[0m\u001b[0m\n\u001b[1;32m     33\u001b[0m     \u001b[0;32mreturn\u001b[0m \u001b[0mwtparts\u001b[0m\u001b[0;34m\u001b[0m\u001b[0m\n",
      "\u001b[0;31mTypeError\u001b[0m: list indices must be integers, not tuple"
     ]
    }
   ],
   "source": [
    "import time\n",
    "start = time.time()\n",
    "\n",
    "\"\"\"\n",
    "P=list(Partition_Poset(N))\n",
    "blocks=[]\n",
    "for part in (P):\n",
    "    #print(part)\n",
    "    wtpart=[]\n",
    "    for block in list(part):\n",
    "        #print(block)\n",
    "        wtpart.append([tuple((block,wt)) for wt in range(0,len(block))])    \n",
    "    blocks.append(wtpart)\n",
    "\n",
    "print(len(blocks))\n",
    "#print(Po.moebius_function(blocks(0),blocks(1)))\n",
    "\n",
    "start = time.time()\n",
    "\"\"\"\n",
    "a = [{1,2,3},{4,5},{6}]\n",
    "\n",
    "#itertools with permuations of 3 from n sets of ranges?\n",
    "# arange(len(i)), arange(len(j)),...\n",
    "def wtparting(listofsets):\n",
    "    counts=[0]*len(listofsets)\n",
    "    wtparts=[]\n",
    "    for i,j in enumerate(listofsets):\n",
    "        counts[i]=len(j)\n",
    "    for num in counts:\n",
    "        for k in range(num):\n",
    "            wtparts.append([tuple((listofsets[i,],k))])\n",
    "    \n",
    "    return wtparts\n",
    "    \n",
    "        \n",
    "        \n",
    "print(wtparting(a))\n",
    "\n"
   ]
  },
  {
   "cell_type": "code",
   "execution_count": 22,
   "metadata": {
    "collapsed": false,
    "deletable": true,
    "editable": true,
    "scrolled": true
   },
   "outputs": [
    {
     "name": "stdout",
     "output_type": "stream",
     "text": [
      "{{1, 2, 3}, {4, 5}}\n",
      "[3, 2]\n",
      "()\n",
      "2\n",
      "4\n",
      "[{{1, 2, 3, 4}}, {{1}, {2, 3, 4}}, {{1, 2, 3}, {4}}, {{1, 2}, {3, 4}}, {{1}, {2}, {3, 4}}, {{1}, {2, 3}, {4}}, {{1, 2}, {3}, {4}}, {{1}, {2}, {3}, {4}}]\n",
      "[[4], [1, 3], [3, 1], [2, 2], [1, 1, 2], [1, 2, 1], [2, 1, 1], [1, 1, 1, 1]]\n",
      "went from 8 unweighted to 21 weighted\n"
     ]
    }
   ],
   "source": [
    "\"\"\"\n",
    "IDEA: generate a set of superscripts with unique ID corresponding to each partition\n",
    "then, stitch together the superscripts with the partitions\n",
    "kinda like IKEA furniture or something\n",
    "\"\"\"\n",
    "\n",
    "import itertools as it\n",
    "import numpy as np\n",
    "\n",
    "p=list(SetPartitions(5))\n",
    "sep=[]\n",
    "ex=p[15]\n",
    "print ex\n",
    "for i,block in enumerate(ex):\n",
    "    sep.append(len(block))\n",
    "    \n",
    "    ##matrix of possible superscripts\n",
    "\n",
    "print sep\n",
    "supers=dict()\n",
    "\n",
    "\n",
    "#result = np.prod(sep)  #gives the number of weighted partitions for a given unweighted partition\n",
    "\n",
    "\n",
    "for i,j in enumerate(sep):\n",
    "    sep[i]=list(range(0,j))\n",
    "\n",
    "\n",
    "    \n",
    "print() \n",
    "\n",
    "print len(sep)\n",
    "\n",
    "def supers(*args):\n",
    "    return list(it.product(*args))   \n",
    "supers(*sep)\n",
    "\n",
    "###############\n",
    "###############\n",
    "\n",
    "##counts number of weighted setpartitions corresponding to the path graph\n",
    "print N\n",
    "counting=[]\n",
    "\n",
    "whitewhale= pathlattice\n",
    "\n",
    "for i in whitewhale:\n",
    "    counting.append([block for block in i])\n",
    "\n",
    "counts=list(list(len(i) for i in counting[j]) for j in range(0,len(counting)))\n",
    "print(pathlattice)\n",
    "print(counts)\n",
    "finalcount= ((np.prod(i)) for i in counts)\n",
    "\n",
    "#for i in range(0,len(whitewhale)):\n",
    "#    print(counts[i],whitewhale[i])\n",
    "\n",
    "#print counts,list(finalcount)\n",
    "Nwtparts= sum(finalcount)\n",
    "print \"went from %d unweighted to %d weighted\" %(len(whitewhale),Nwtparts)\n",
    "\n",
    "\n",
    "\n",
    "# note that n>3 is when the path graph differs from the star graph\n",
    "# n=4 went from 8 unweighted to 21 weighted\n",
    "# n=5 went from 16 unweighted to 55 weighted\n",
    "# n=6 went from 32 unweighted to 144 weighted\n",
    "# n=7 went from 64 unweighted to 377 weighted\n",
    "# n=8 went from 128 unweighted to 987 weighted\n",
    "# n=9 went from 256 unweighted to 2584 weighted\n",
    "# n=10 went from 512 unweighted to 6765 weighted\n",
    "\n",
    "###############\n",
    "###bisection of fibonacci number\n",
    "###############\n"
   ]
  },
  {
   "cell_type": "code",
   "execution_count": null,
   "metadata": {
    "collapsed": true,
    "deletable": true,
    "editable": true
   },
   "outputs": [],
   "source": []
  }
 ],
 "metadata": {
  "kernelspec": {
   "display_name": "SageMath 8.1",
   "language": "",
   "name": "sagemath"
  },
  "language_info": {
   "codemirror_mode": {
    "name": "ipython",
    "version": 2
   },
   "file_extension": ".py",
   "mimetype": "text/x-python",
   "name": "python",
   "nbconvert_exporter": "python",
   "pygments_lexer": "ipython2",
   "version": "2.7.14"
  }
 },
 "nbformat": 4,
 "nbformat_minor": 2
}
