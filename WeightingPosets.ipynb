{
 "cells": [
  {
   "cell_type": "code",
   "execution_count": 1,
   "metadata": {
    "collapsed": false,
    "deletable": true,
    "editable": true
   },
   "outputs": [
    {
     "name": "stdout",
     "output_type": "stream",
     "text": [
      "[{{1, 2, 3, 4, 5}}, {{1}, {2, 3, 4, 5}}, {{1, 2, 3, 4}, {5}}, {{1, 2}, {3, 4, 5}}, {{1, 2, 3}, {4, 5}}, {{1}, {2}, {3, 4, 5}}, {{1}, {2, 3, 4}, {5}}, {{1, 2, 3}, {4}, {5}}, {{1}, {2, 3}, {4, 5}}, {{1, 2}, {3}, {4, 5}}, {{1, 2}, {3, 4}, {5}}, {{1}, {2}, {3}, {4, 5}}, {{1}, {2}, {3, 4}, {5}}, {{1}, {2, 3}, {4}, {5}}, {{1, 2}, {3}, {4}, {5}}, {{1}, {2}, {3}, {4}, {5}}]\n",
      "[5]\n",
      "[1, 4]\n",
      "[4, 1]\n",
      "[2, 3]\n",
      "[3, 2]\n",
      "[1, 1, 3]\n",
      "[1, 3, 1]\n",
      "[3, 1, 1]\n",
      "[1, 2, 2]\n",
      "[2, 1, 2]\n",
      "[2, 2, 1]\n",
      "[1, 1, 1, 2]\n",
      "[1, 1, 2, 1]\n",
      "[1, 2, 1, 1]\n",
      "[2, 1, 1, 1]\n",
      "[1, 1, 1, 1, 1]\n"
     ]
    },
    {
     "data": {
      "text/plain": [
       "'\\nfor i,j in enumerate(sep):\\n    sep[i]=list(range(0,j)) \\n\\nprint len(sep)\\n\\ndef supers(*args):\\n    return list(it.product(*args))  \\nsetsup=supers(*sep)\\npart, setsup, len(setsup)\\n'"
      ]
     },
     "execution_count": 1,
     "metadata": {},
     "output_type": "execute_result"
    }
   ],
   "source": [
    "import itertools as it\n",
    "import numpy as np\n",
    "\n",
    "N=5\n",
    "\n",
    "\n",
    "\n",
    "P= graphs.PathGraph(N) \n",
    "S=graphs.StarGraph(N-1) #the Sage's Star Graph actually graphs N+1 vertices instead of N so I put N-1 here to account for that\n",
    "\n",
    "pathadj= P.adjacency_matrix()    #default ordering of rows and columns is from 0 to N\n",
    "staradj= S.adjacency_matrix()\n",
    "\n",
    "#use whatever function you like, just be consistent\n",
    "\n",
    "def disconnected(AdjMat,b):   #b is the size of of the testblock\n",
    "    ans= sum(sum(AdjMat))/2\n",
    "    return ans!=b-1\n",
    "\n",
    "def connected(AdjMat,b): #b is the size of of the testblock\n",
    "    ans= sum(sum(AdjMat))/2\n",
    "    return ans==b-1\n",
    "\n",
    "    \n",
    "    \n",
    "def sieve(AdjMat,setpartitions):\n",
    "    lsetpartitions=list(setpartitions)\n",
    "    lset=lsetpartitions[:]\n",
    "    for i,partition in enumerate(lsetpartitions):\n",
    "        for block in partition:\n",
    "            testblock=list(block)\n",
    "            testblock[:]=[x-1 for x in testblock]\n",
    "            testadj=AdjMat[testblock,testblock]\n",
    "            if disconnected(testadj,len(testblock)):\n",
    "                lset.remove(lsetpartitions[i])\n",
    "                break\n",
    "            else:\n",
    "                continue\n",
    "    return lset\n",
    "\n",
    "######################\n",
    "#NEW CODE\n",
    "######################\n",
    "                \n",
    "pathlattice= sieve(pathadj,SetPartitions(N))\n",
    "\n",
    "pathlattice\n",
    "sep=np.zeros((len(pathlattice)),dtype=object)\n",
    "print pathlattice\n",
    "\n",
    "for i,part in enumerate(pathlattice):\n",
    "    sep[i]=[]\n",
    "    for block in (part):\n",
    "        sep[i].append(len(block))\n",
    "    ##matrix of possible superscripts\n",
    "\n",
    "\n",
    "for i,j in enumerate(sep):\n",
    "    print j\n",
    "    \n",
    "\n",
    "#result = np.prod(sep)  #gives the number of weighted partitions for a given unweighted partition\n",
    "\n",
    "\"\"\"\n",
    "for i,j in enumerate(sep):\n",
    "    sep[i]=list(range(0,j)) \n",
    "\n",
    "print len(sep)\n",
    "\n",
    "def supers(*args):\n",
    "    return list(it.product(*args))  \n",
    "setsup=supers(*sep)\n",
    "part, setsup, len(setsup)\n",
    "\"\"\"\n"
   ]
  }
 ],
 "metadata": {
  "kernelspec": {
   "display_name": "SageMath 8.1",
   "language": "",
   "name": "sagemath"
  },
  "language_info": {
   "codemirror_mode": {
    "name": "ipython",
    "version": 2
   },
   "file_extension": ".py",
   "mimetype": "text/x-python",
   "name": "python",
   "nbconvert_exporter": "python",
   "pygments_lexer": "ipython2",
   "version": "2.7.14"
  }
 },
 "nbformat": 4,
 "nbformat_minor": 2
}
